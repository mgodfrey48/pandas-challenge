{
 "cells": [
  {
   "cell_type": "markdown",
   "metadata": {},
   "source": [
    "### Note\n",
    "* Instructions have been included for each segment. You do not have to follow them exactly, but they are included to help you think through the steps."
   ]
  },
  {
   "cell_type": "code",
   "execution_count": 1,
   "metadata": {},
   "outputs": [
    {
     "data": {
      "text/html": [
       "<div>\n",
       "<style scoped>\n",
       "    .dataframe tbody tr th:only-of-type {\n",
       "        vertical-align: middle;\n",
       "    }\n",
       "\n",
       "    .dataframe tbody tr th {\n",
       "        vertical-align: top;\n",
       "    }\n",
       "\n",
       "    .dataframe thead th {\n",
       "        text-align: right;\n",
       "    }\n",
       "</style>\n",
       "<table border=\"1\" class=\"dataframe\">\n",
       "  <thead>\n",
       "    <tr style=\"text-align: right;\">\n",
       "      <th></th>\n",
       "      <th>Student ID</th>\n",
       "      <th>student_name</th>\n",
       "      <th>gender</th>\n",
       "      <th>grade</th>\n",
       "      <th>school_name</th>\n",
       "      <th>reading_score</th>\n",
       "      <th>math_score</th>\n",
       "    </tr>\n",
       "  </thead>\n",
       "  <tbody>\n",
       "    <tr>\n",
       "      <th>0</th>\n",
       "      <td>0</td>\n",
       "      <td>Paul Bradley</td>\n",
       "      <td>M</td>\n",
       "      <td>9th</td>\n",
       "      <td>Huang High School</td>\n",
       "      <td>66</td>\n",
       "      <td>79</td>\n",
       "    </tr>\n",
       "    <tr>\n",
       "      <th>1</th>\n",
       "      <td>1</td>\n",
       "      <td>Victor Smith</td>\n",
       "      <td>M</td>\n",
       "      <td>12th</td>\n",
       "      <td>Huang High School</td>\n",
       "      <td>94</td>\n",
       "      <td>61</td>\n",
       "    </tr>\n",
       "    <tr>\n",
       "      <th>2</th>\n",
       "      <td>2</td>\n",
       "      <td>Kevin Rodriguez</td>\n",
       "      <td>M</td>\n",
       "      <td>12th</td>\n",
       "      <td>Huang High School</td>\n",
       "      <td>90</td>\n",
       "      <td>60</td>\n",
       "    </tr>\n",
       "    <tr>\n",
       "      <th>3</th>\n",
       "      <td>3</td>\n",
       "      <td>Dr. Richard Scott</td>\n",
       "      <td>M</td>\n",
       "      <td>12th</td>\n",
       "      <td>Huang High School</td>\n",
       "      <td>67</td>\n",
       "      <td>58</td>\n",
       "    </tr>\n",
       "    <tr>\n",
       "      <th>4</th>\n",
       "      <td>4</td>\n",
       "      <td>Bonnie Ray</td>\n",
       "      <td>F</td>\n",
       "      <td>9th</td>\n",
       "      <td>Huang High School</td>\n",
       "      <td>97</td>\n",
       "      <td>84</td>\n",
       "    </tr>\n",
       "    <tr>\n",
       "      <th>5</th>\n",
       "      <td>5</td>\n",
       "      <td>Bryan Miranda</td>\n",
       "      <td>M</td>\n",
       "      <td>9th</td>\n",
       "      <td>Huang High School</td>\n",
       "      <td>94</td>\n",
       "      <td>94</td>\n",
       "    </tr>\n",
       "    <tr>\n",
       "      <th>6</th>\n",
       "      <td>6</td>\n",
       "      <td>Sheena Carter</td>\n",
       "      <td>F</td>\n",
       "      <td>11th</td>\n",
       "      <td>Huang High School</td>\n",
       "      <td>82</td>\n",
       "      <td>80</td>\n",
       "    </tr>\n",
       "    <tr>\n",
       "      <th>7</th>\n",
       "      <td>7</td>\n",
       "      <td>Nicole Baker</td>\n",
       "      <td>F</td>\n",
       "      <td>12th</td>\n",
       "      <td>Huang High School</td>\n",
       "      <td>96</td>\n",
       "      <td>69</td>\n",
       "    </tr>\n",
       "    <tr>\n",
       "      <th>8</th>\n",
       "      <td>8</td>\n",
       "      <td>Michael Roth</td>\n",
       "      <td>M</td>\n",
       "      <td>10th</td>\n",
       "      <td>Huang High School</td>\n",
       "      <td>95</td>\n",
       "      <td>87</td>\n",
       "    </tr>\n",
       "    <tr>\n",
       "      <th>9</th>\n",
       "      <td>9</td>\n",
       "      <td>Matthew Greene</td>\n",
       "      <td>M</td>\n",
       "      <td>10th</td>\n",
       "      <td>Huang High School</td>\n",
       "      <td>96</td>\n",
       "      <td>84</td>\n",
       "    </tr>\n",
       "  </tbody>\n",
       "</table>\n",
       "</div>"
      ],
      "text/plain": [
       "   Student ID       student_name gender grade        school_name  \\\n",
       "0           0       Paul Bradley      M   9th  Huang High School   \n",
       "1           1       Victor Smith      M  12th  Huang High School   \n",
       "2           2    Kevin Rodriguez      M  12th  Huang High School   \n",
       "3           3  Dr. Richard Scott      M  12th  Huang High School   \n",
       "4           4         Bonnie Ray      F   9th  Huang High School   \n",
       "5           5      Bryan Miranda      M   9th  Huang High School   \n",
       "6           6      Sheena Carter      F  11th  Huang High School   \n",
       "7           7       Nicole Baker      F  12th  Huang High School   \n",
       "8           8       Michael Roth      M  10th  Huang High School   \n",
       "9           9     Matthew Greene      M  10th  Huang High School   \n",
       "\n",
       "   reading_score  math_score  \n",
       "0             66          79  \n",
       "1             94          61  \n",
       "2             90          60  \n",
       "3             67          58  \n",
       "4             97          84  \n",
       "5             94          94  \n",
       "6             82          80  \n",
       "7             96          69  \n",
       "8             95          87  \n",
       "9             96          84  "
      ]
     },
     "execution_count": 1,
     "metadata": {},
     "output_type": "execute_result"
    }
   ],
   "source": [
    "# Dependencies and Setup\n",
    "import pandas as pd\n",
    "\n",
    "# File to Load (Remember to Change These)\n",
    "school_data_to_load = \"Resources/schools_complete.csv\"\n",
    "student_data_to_load = \"Resources/students_complete.csv\"\n",
    "\n",
    "# Read School and Student Data File and store into Pandas DataFrames\n",
    "school_data = pd.read_csv(school_data_to_load)\n",
    "student_data = pd.read_csv(student_data_to_load)\n",
    "\n",
    "# Combine the data into a single dataset.  \n",
    "school_data_complete = pd.merge(student_data, school_data, how=\"left\", on=[\"school_name\", \"school_name\"])\n",
    "\n",
    "student_data.head(10)"
   ]
  },
  {
   "cell_type": "markdown",
   "metadata": {},
   "source": [
    "## District Summary\n",
    "\n",
    "* Calculate the total number of schools\n",
    "\n",
    "* Calculate the total number of students\n",
    "\n",
    "* Calculate the total budget\n",
    "\n",
    "* Calculate the average math score \n",
    "\n",
    "* Calculate the average reading score\n",
    "\n",
    "* Calculate the percentage of students with a passing math score (70 or greater)\n",
    "\n",
    "* Calculate the percentage of students with a passing reading score (70 or greater)\n",
    "\n",
    "* Calculate the percentage of students who passed math **and** reading (% Overall Passing)\n",
    "\n",
    "* Create a dataframe to hold the above results\n",
    "\n",
    "* Optional: give the displayed data cleaner formatting"
   ]
  },
  {
   "cell_type": "code",
   "execution_count": 2,
   "metadata": {},
   "outputs": [],
   "source": [
    "# Total number of schools\n",
    "total_schools = len(school_data)"
   ]
  },
  {
   "cell_type": "code",
   "execution_count": 3,
   "metadata": {},
   "outputs": [],
   "source": [
    "# Total number of students\n",
    "total_students = len(student_data)"
   ]
  },
  {
   "cell_type": "code",
   "execution_count": 4,
   "metadata": {},
   "outputs": [],
   "source": [
    "# Total budget\n",
    "total_budget = school_data['budget'].sum()"
   ]
  },
  {
   "cell_type": "code",
   "execution_count": 5,
   "metadata": {},
   "outputs": [],
   "source": [
    "# Average math score\n",
    "avg_math_score = student_data['math_score'].mean()"
   ]
  },
  {
   "cell_type": "code",
   "execution_count": 6,
   "metadata": {},
   "outputs": [],
   "source": [
    "# Average reading score\n",
    "avg_reading_score = student_data['reading_score'].mean()"
   ]
  },
  {
   "cell_type": "code",
   "execution_count": 7,
   "metadata": {},
   "outputs": [],
   "source": [
    "# Percentage of students with a passing math score\n",
    "total_passing_math = len(student_data.loc[student_data['math_score'] >= 70])\n",
    "percentage_passing_math = total_passing_math/total_students * 100"
   ]
  },
  {
   "cell_type": "code",
   "execution_count": 8,
   "metadata": {},
   "outputs": [],
   "source": [
    "# Percentage of students with a passing reading score\n",
    "total_passing_reading = len(student_data.loc[student_data['reading_score'] >= 70])\n",
    "percentage_passing_reading = total_passing_reading/total_students * 100"
   ]
  },
  {
   "cell_type": "code",
   "execution_count": 9,
   "metadata": {},
   "outputs": [],
   "source": [
    "# Percentage of students with a passing math score and a passing reading score\n",
    "total_passing_both = len(student_data.loc[(student_data['math_score'] >= 70) & (student_data['reading_score'] >= 70)])\n",
    "percentage_passing_both = total_passing_both/total_students * 100"
   ]
  },
  {
   "cell_type": "code",
   "execution_count": 10,
   "metadata": {},
   "outputs": [
    {
     "data": {
      "text/html": [
       "<div>\n",
       "<style scoped>\n",
       "    .dataframe tbody tr th:only-of-type {\n",
       "        vertical-align: middle;\n",
       "    }\n",
       "\n",
       "    .dataframe tbody tr th {\n",
       "        vertical-align: top;\n",
       "    }\n",
       "\n",
       "    .dataframe thead th {\n",
       "        text-align: right;\n",
       "    }\n",
       "</style>\n",
       "<table border=\"1\" class=\"dataframe\">\n",
       "  <thead>\n",
       "    <tr style=\"text-align: right;\">\n",
       "      <th></th>\n",
       "      <th>Total Schools</th>\n",
       "      <th>Total Students</th>\n",
       "      <th>Total Budget</th>\n",
       "      <th>Average Math Score</th>\n",
       "      <th>Average Reading Score</th>\n",
       "      <th>Percent Passing Math</th>\n",
       "      <th>Percent Passing Reading</th>\n",
       "      <th>Percent Passing Math and Reading</th>\n",
       "    </tr>\n",
       "  </thead>\n",
       "  <tbody>\n",
       "    <tr>\n",
       "      <th>0</th>\n",
       "      <td>15</td>\n",
       "      <td>39170</td>\n",
       "      <td>24649428</td>\n",
       "      <td>78.985371</td>\n",
       "      <td>81.87784</td>\n",
       "      <td>74.980853</td>\n",
       "      <td>85.805463</td>\n",
       "      <td>65.172326</td>\n",
       "    </tr>\n",
       "  </tbody>\n",
       "</table>\n",
       "</div>"
      ],
      "text/plain": [
       "   Total Schools  Total Students  Total Budget  Average Math Score  \\\n",
       "0             15           39170      24649428           78.985371   \n",
       "\n",
       "   Average Reading Score  Percent Passing Math  Percent Passing Reading  \\\n",
       "0               81.87784             74.980853                85.805463   \n",
       "\n",
       "   Percent Passing Math and Reading  \n",
       "0                         65.172326  "
      ]
     },
     "execution_count": 10,
     "metadata": {},
     "output_type": "execute_result"
    }
   ],
   "source": [
    "# Create a dataframe to hold all of the above calculations\n",
    "district_summary = pd.DataFrame({'Total Schools':[total_schools],\n",
    "                                'Total Students':total_students,\n",
    "                                'Total Budget':total_budget,\n",
    "                                'Average Math Score':avg_math_score,\n",
    "                                'Average Reading Score':avg_reading_score,\n",
    "                                'Percent Passing Math':percentage_passing_math,\n",
    "                                'Percent Passing Reading':percentage_passing_reading,\n",
    "                                'Percent Passing Math and Reading':percentage_passing_both})\n",
    "district_summary"
   ]
  },
  {
   "cell_type": "code",
   "execution_count": null,
   "metadata": {},
   "outputs": [],
   "source": []
  },
  {
   "cell_type": "markdown",
   "metadata": {},
   "source": [
    "## School Summary"
   ]
  },
  {
   "cell_type": "markdown",
   "metadata": {},
   "source": [
    "* Create an overview table that summarizes key metrics about each school, including:\n",
    "  * School Name\n",
    "  * School Type\n",
    "  * Total Students\n",
    "  * Total School Budget\n",
    "  * Per Student Budget\n",
    "  * Average Math Score\n",
    "  * Average Reading Score\n",
    "  * % Passing Math\n",
    "  * % Passing Reading\n",
    "  * % Overall Passing (The percentage of students that passed math **and** reading.)\n",
    "  \n",
    "* Create a dataframe to hold the above results"
   ]
  },
  {
   "cell_type": "code",
   "execution_count": 24,
   "metadata": {},
   "outputs": [
    {
     "data": {
      "text/html": [
       "<div>\n",
       "<style scoped>\n",
       "    .dataframe tbody tr th:only-of-type {\n",
       "        vertical-align: middle;\n",
       "    }\n",
       "\n",
       "    .dataframe tbody tr th {\n",
       "        vertical-align: top;\n",
       "    }\n",
       "\n",
       "    .dataframe thead th {\n",
       "        text-align: right;\n",
       "    }\n",
       "</style>\n",
       "<table border=\"1\" class=\"dataframe\">\n",
       "  <thead>\n",
       "    <tr style=\"text-align: right;\">\n",
       "      <th></th>\n",
       "      <th>School ID</th>\n",
       "      <th>type</th>\n",
       "      <th>size</th>\n",
       "      <th>budget</th>\n",
       "      <th>Student ID</th>\n",
       "      <th>student_name</th>\n",
       "      <th>gender</th>\n",
       "      <th>grade</th>\n",
       "      <th>reading_score</th>\n",
       "      <th>math_score</th>\n",
       "    </tr>\n",
       "    <tr>\n",
       "      <th>school_name</th>\n",
       "      <th></th>\n",
       "      <th></th>\n",
       "      <th></th>\n",
       "      <th></th>\n",
       "      <th></th>\n",
       "      <th></th>\n",
       "      <th></th>\n",
       "      <th></th>\n",
       "      <th></th>\n",
       "      <th></th>\n",
       "    </tr>\n",
       "  </thead>\n",
       "  <tbody>\n",
       "    <tr>\n",
       "      <th>Bailey High School</th>\n",
       "      <td>4976</td>\n",
       "      <td>4976</td>\n",
       "      <td>4976</td>\n",
       "      <td>4976</td>\n",
       "      <td>4976</td>\n",
       "      <td>4976</td>\n",
       "      <td>4976</td>\n",
       "      <td>4976</td>\n",
       "      <td>4976</td>\n",
       "      <td>4976</td>\n",
       "    </tr>\n",
       "    <tr>\n",
       "      <th>Cabrera High School</th>\n",
       "      <td>1858</td>\n",
       "      <td>1858</td>\n",
       "      <td>1858</td>\n",
       "      <td>1858</td>\n",
       "      <td>1858</td>\n",
       "      <td>1858</td>\n",
       "      <td>1858</td>\n",
       "      <td>1858</td>\n",
       "      <td>1858</td>\n",
       "      <td>1858</td>\n",
       "    </tr>\n",
       "    <tr>\n",
       "      <th>Figueroa High School</th>\n",
       "      <td>2949</td>\n",
       "      <td>2949</td>\n",
       "      <td>2949</td>\n",
       "      <td>2949</td>\n",
       "      <td>2949</td>\n",
       "      <td>2949</td>\n",
       "      <td>2949</td>\n",
       "      <td>2949</td>\n",
       "      <td>2949</td>\n",
       "      <td>2949</td>\n",
       "    </tr>\n",
       "    <tr>\n",
       "      <th>Ford High School</th>\n",
       "      <td>2739</td>\n",
       "      <td>2739</td>\n",
       "      <td>2739</td>\n",
       "      <td>2739</td>\n",
       "      <td>2739</td>\n",
       "      <td>2739</td>\n",
       "      <td>2739</td>\n",
       "      <td>2739</td>\n",
       "      <td>2739</td>\n",
       "      <td>2739</td>\n",
       "    </tr>\n",
       "    <tr>\n",
       "      <th>Griffin High School</th>\n",
       "      <td>1468</td>\n",
       "      <td>1468</td>\n",
       "      <td>1468</td>\n",
       "      <td>1468</td>\n",
       "      <td>1468</td>\n",
       "      <td>1468</td>\n",
       "      <td>1468</td>\n",
       "      <td>1468</td>\n",
       "      <td>1468</td>\n",
       "      <td>1468</td>\n",
       "    </tr>\n",
       "    <tr>\n",
       "      <th>Hernandez High School</th>\n",
       "      <td>4635</td>\n",
       "      <td>4635</td>\n",
       "      <td>4635</td>\n",
       "      <td>4635</td>\n",
       "      <td>4635</td>\n",
       "      <td>4635</td>\n",
       "      <td>4635</td>\n",
       "      <td>4635</td>\n",
       "      <td>4635</td>\n",
       "      <td>4635</td>\n",
       "    </tr>\n",
       "    <tr>\n",
       "      <th>Holden High School</th>\n",
       "      <td>427</td>\n",
       "      <td>427</td>\n",
       "      <td>427</td>\n",
       "      <td>427</td>\n",
       "      <td>427</td>\n",
       "      <td>427</td>\n",
       "      <td>427</td>\n",
       "      <td>427</td>\n",
       "      <td>427</td>\n",
       "      <td>427</td>\n",
       "    </tr>\n",
       "    <tr>\n",
       "      <th>Huang High School</th>\n",
       "      <td>2917</td>\n",
       "      <td>2917</td>\n",
       "      <td>2917</td>\n",
       "      <td>2917</td>\n",
       "      <td>2917</td>\n",
       "      <td>2917</td>\n",
       "      <td>2917</td>\n",
       "      <td>2917</td>\n",
       "      <td>2917</td>\n",
       "      <td>2917</td>\n",
       "    </tr>\n",
       "    <tr>\n",
       "      <th>Johnson High School</th>\n",
       "      <td>4761</td>\n",
       "      <td>4761</td>\n",
       "      <td>4761</td>\n",
       "      <td>4761</td>\n",
       "      <td>4761</td>\n",
       "      <td>4761</td>\n",
       "      <td>4761</td>\n",
       "      <td>4761</td>\n",
       "      <td>4761</td>\n",
       "      <td>4761</td>\n",
       "    </tr>\n",
       "    <tr>\n",
       "      <th>Pena High School</th>\n",
       "      <td>962</td>\n",
       "      <td>962</td>\n",
       "      <td>962</td>\n",
       "      <td>962</td>\n",
       "      <td>962</td>\n",
       "      <td>962</td>\n",
       "      <td>962</td>\n",
       "      <td>962</td>\n",
       "      <td>962</td>\n",
       "      <td>962</td>\n",
       "    </tr>\n",
       "    <tr>\n",
       "      <th>Rodriguez High School</th>\n",
       "      <td>3999</td>\n",
       "      <td>3999</td>\n",
       "      <td>3999</td>\n",
       "      <td>3999</td>\n",
       "      <td>3999</td>\n",
       "      <td>3999</td>\n",
       "      <td>3999</td>\n",
       "      <td>3999</td>\n",
       "      <td>3999</td>\n",
       "      <td>3999</td>\n",
       "    </tr>\n",
       "    <tr>\n",
       "      <th>Shelton High School</th>\n",
       "      <td>1761</td>\n",
       "      <td>1761</td>\n",
       "      <td>1761</td>\n",
       "      <td>1761</td>\n",
       "      <td>1761</td>\n",
       "      <td>1761</td>\n",
       "      <td>1761</td>\n",
       "      <td>1761</td>\n",
       "      <td>1761</td>\n",
       "      <td>1761</td>\n",
       "    </tr>\n",
       "    <tr>\n",
       "      <th>Thomas High School</th>\n",
       "      <td>1635</td>\n",
       "      <td>1635</td>\n",
       "      <td>1635</td>\n",
       "      <td>1635</td>\n",
       "      <td>1635</td>\n",
       "      <td>1635</td>\n",
       "      <td>1635</td>\n",
       "      <td>1635</td>\n",
       "      <td>1635</td>\n",
       "      <td>1635</td>\n",
       "    </tr>\n",
       "    <tr>\n",
       "      <th>Wilson High School</th>\n",
       "      <td>2283</td>\n",
       "      <td>2283</td>\n",
       "      <td>2283</td>\n",
       "      <td>2283</td>\n",
       "      <td>2283</td>\n",
       "      <td>2283</td>\n",
       "      <td>2283</td>\n",
       "      <td>2283</td>\n",
       "      <td>2283</td>\n",
       "      <td>2283</td>\n",
       "    </tr>\n",
       "    <tr>\n",
       "      <th>Wright High School</th>\n",
       "      <td>1800</td>\n",
       "      <td>1800</td>\n",
       "      <td>1800</td>\n",
       "      <td>1800</td>\n",
       "      <td>1800</td>\n",
       "      <td>1800</td>\n",
       "      <td>1800</td>\n",
       "      <td>1800</td>\n",
       "      <td>1800</td>\n",
       "      <td>1800</td>\n",
       "    </tr>\n",
       "  </tbody>\n",
       "</table>\n",
       "</div>"
      ],
      "text/plain": [
       "                       School ID  type  size  budget  Student ID  \\\n",
       "school_name                                                        \n",
       "Bailey High School          4976  4976  4976    4976        4976   \n",
       "Cabrera High School         1858  1858  1858    1858        1858   \n",
       "Figueroa High School        2949  2949  2949    2949        2949   \n",
       "Ford High School            2739  2739  2739    2739        2739   \n",
       "Griffin High School         1468  1468  1468    1468        1468   \n",
       "Hernandez High School       4635  4635  4635    4635        4635   \n",
       "Holden High School           427   427   427     427         427   \n",
       "Huang High School           2917  2917  2917    2917        2917   \n",
       "Johnson High School         4761  4761  4761    4761        4761   \n",
       "Pena High School             962   962   962     962         962   \n",
       "Rodriguez High School       3999  3999  3999    3999        3999   \n",
       "Shelton High School         1761  1761  1761    1761        1761   \n",
       "Thomas High School          1635  1635  1635    1635        1635   \n",
       "Wilson High School          2283  2283  2283    2283        2283   \n",
       "Wright High School          1800  1800  1800    1800        1800   \n",
       "\n",
       "                       student_name  gender  grade  reading_score  math_score  \n",
       "school_name                                                                    \n",
       "Bailey High School             4976    4976   4976           4976        4976  \n",
       "Cabrera High School            1858    1858   1858           1858        1858  \n",
       "Figueroa High School           2949    2949   2949           2949        2949  \n",
       "Ford High School               2739    2739   2739           2739        2739  \n",
       "Griffin High School            1468    1468   1468           1468        1468  \n",
       "Hernandez High School          4635    4635   4635           4635        4635  \n",
       "Holden High School              427     427    427            427         427  \n",
       "Huang High School              2917    2917   2917           2917        2917  \n",
       "Johnson High School            4761    4761   4761           4761        4761  \n",
       "Pena High School                962     962    962            962         962  \n",
       "Rodriguez High School          3999    3999   3999           3999        3999  \n",
       "Shelton High School            1761    1761   1761           1761        1761  \n",
       "Thomas High School             1635    1635   1635           1635        1635  \n",
       "Wilson High School             2283    2283   2283           2283        2283  \n",
       "Wright High School             1800    1800   1800           1800        1800  "
      ]
     },
     "execution_count": 24,
     "metadata": {},
     "output_type": "execute_result"
    }
   ],
   "source": [
    "# merge data frames\n",
    "merged_data = pd.merge(school_data, student_data, on='school_name')\n",
    "\n",
    "grouped_data = merged_data.groupby(merged_data['school_name'])"
   ]
  },
  {
   "cell_type": "code",
   "execution_count": 27,
   "metadata": {},
   "outputs": [
    {
     "data": {
      "text/plain": [
       "school_name\n",
       "Bailey High School          [Bailey High School]\n",
       "Cabrera High School        [Cabrera High School]\n",
       "Figueroa High School      [Figueroa High School]\n",
       "Ford High School              [Ford High School]\n",
       "Griffin High School        [Griffin High School]\n",
       "Hernandez High School    [Hernandez High School]\n",
       "Holden High School          [Holden High School]\n",
       "Huang High School            [Huang High School]\n",
       "Johnson High School        [Johnson High School]\n",
       "Pena High School              [Pena High School]\n",
       "Rodriguez High School    [Rodriguez High School]\n",
       "Shelton High School        [Shelton High School]\n",
       "Thomas High School          [Thomas High School]\n",
       "Wilson High School          [Wilson High School]\n",
       "Wright High School          [Wright High School]\n",
       "Name: school_name, dtype: object"
      ]
     },
     "execution_count": 27,
     "metadata": {},
     "output_type": "execute_result"
    }
   ],
   "source": [
    "# Store the school names\n",
    "school_names = grouped_data['school_name'].unique()"
   ]
  },
  {
   "cell_type": "code",
   "execution_count": 28,
   "metadata": {},
   "outputs": [
    {
     "data": {
      "text/plain": [
       "school_name\n",
       "Bailey High School       [District]\n",
       "Cabrera High School       [Charter]\n",
       "Figueroa High School     [District]\n",
       "Ford High School         [District]\n",
       "Griffin High School       [Charter]\n",
       "Hernandez High School    [District]\n",
       "Holden High School        [Charter]\n",
       "Huang High School        [District]\n",
       "Johnson High School      [District]\n",
       "Pena High School          [Charter]\n",
       "Rodriguez High School    [District]\n",
       "Shelton High School       [Charter]\n",
       "Thomas High School        [Charter]\n",
       "Wilson High School        [Charter]\n",
       "Wright High School        [Charter]\n",
       "Name: type, dtype: object"
      ]
     },
     "execution_count": 28,
     "metadata": {},
     "output_type": "execute_result"
    }
   ],
   "source": [
    "# Store the school types (as dictionary? - school name is the key, type is the value)\n",
    "school_types = grouped_data['type'].unique()\n",
    "school_types"
   ]
  },
  {
   "cell_type": "code",
   "execution_count": 29,
   "metadata": {},
   "outputs": [
    {
     "data": {
      "text/plain": [
       "school_name\n",
       "Bailey High School       [4976]\n",
       "Cabrera High School      [1858]\n",
       "Figueroa High School     [2949]\n",
       "Ford High School         [2739]\n",
       "Griffin High School      [1468]\n",
       "Hernandez High School    [4635]\n",
       "Holden High School        [427]\n",
       "Huang High School        [2917]\n",
       "Johnson High School      [4761]\n",
       "Pena High School          [962]\n",
       "Rodriguez High School    [3999]\n",
       "Shelton High School      [1761]\n",
       "Thomas High School       [1635]\n",
       "Wilson High School       [2283]\n",
       "Wright High School       [1800]\n",
       "Name: size, dtype: object"
      ]
     },
     "execution_count": 29,
     "metadata": {},
     "output_type": "execute_result"
    }
   ],
   "source": [
    "# Store the number of students at each school (as dictionary? - school name is the key, type is the value)\n",
    "student_populations = grouped_data['size'].unique()\n",
    "student_populations"
   ]
  },
  {
   "cell_type": "code",
   "execution_count": null,
   "metadata": {},
   "outputs": [],
   "source": [
    "# Store total school budgets "
   ]
  },
  {
   "cell_type": "code",
   "execution_count": null,
   "metadata": {},
   "outputs": [],
   "source": [
    "# Stoce per student school budgets "
   ]
  },
  {
   "cell_type": "code",
   "execution_count": null,
   "metadata": {},
   "outputs": [],
   "source": [
    "# Average math score - use groupby to group the math scores, then divide by the length of the group"
   ]
  },
  {
   "cell_type": "code",
   "execution_count": null,
   "metadata": {},
   "outputs": [],
   "source": [
    "# Average reading score - use groupby"
   ]
  },
  {
   "cell_type": "code",
   "execution_count": null,
   "metadata": {},
   "outputs": [],
   "source": [
    "# Percent passing math"
   ]
  },
  {
   "cell_type": "code",
   "execution_count": null,
   "metadata": {},
   "outputs": [],
   "source": [
    "# Percent passing reading"
   ]
  },
  {
   "cell_type": "code",
   "execution_count": null,
   "metadata": {},
   "outputs": [],
   "source": [
    "# Percent passing overall"
   ]
  },
  {
   "cell_type": "code",
   "execution_count": 36,
   "metadata": {},
   "outputs": [
    {
     "data": {
      "text/html": [
       "<div>\n",
       "<style scoped>\n",
       "    .dataframe tbody tr th:only-of-type {\n",
       "        vertical-align: middle;\n",
       "    }\n",
       "\n",
       "    .dataframe tbody tr th {\n",
       "        vertical-align: top;\n",
       "    }\n",
       "\n",
       "    .dataframe thead th {\n",
       "        text-align: right;\n",
       "    }\n",
       "</style>\n",
       "<table border=\"1\" class=\"dataframe\">\n",
       "  <thead>\n",
       "    <tr style=\"text-align: right;\">\n",
       "      <th></th>\n",
       "      <th>School Type</th>\n",
       "      <th>Total Students</th>\n",
       "    </tr>\n",
       "    <tr>\n",
       "      <th>school_name</th>\n",
       "      <th></th>\n",
       "      <th></th>\n",
       "    </tr>\n",
       "  </thead>\n",
       "  <tbody>\n",
       "    <tr>\n",
       "      <th>Bailey High School</th>\n",
       "      <td>[District]</td>\n",
       "      <td>[4976]</td>\n",
       "    </tr>\n",
       "    <tr>\n",
       "      <th>Cabrera High School</th>\n",
       "      <td>[Charter]</td>\n",
       "      <td>[1858]</td>\n",
       "    </tr>\n",
       "    <tr>\n",
       "      <th>Figueroa High School</th>\n",
       "      <td>[District]</td>\n",
       "      <td>[2949]</td>\n",
       "    </tr>\n",
       "    <tr>\n",
       "      <th>Ford High School</th>\n",
       "      <td>[District]</td>\n",
       "      <td>[2739]</td>\n",
       "    </tr>\n",
       "    <tr>\n",
       "      <th>Griffin High School</th>\n",
       "      <td>[Charter]</td>\n",
       "      <td>[1468]</td>\n",
       "    </tr>\n",
       "  </tbody>\n",
       "</table>\n",
       "</div>"
      ],
      "text/plain": [
       "                     School Type Total Students\n",
       "school_name                                    \n",
       "Bailey High School    [District]         [4976]\n",
       "Cabrera High School    [Charter]         [1858]\n",
       "Figueroa High School  [District]         [2949]\n",
       "Ford High School      [District]         [2739]\n",
       "Griffin High School    [Charter]         [1468]"
      ]
     },
     "execution_count": 36,
     "metadata": {},
     "output_type": "execute_result"
    }
   ],
   "source": [
    "# Summary table\n",
    "school_summary_table = pd.DataFrame({'School Type': school_types,\n",
    "                                    'Total Students': student_populations})\n",
    "school_summary_table.head()"
   ]
  },
  {
   "cell_type": "markdown",
   "metadata": {},
   "source": [
    "## Top Performing Schools (By % Overall Passing)"
   ]
  },
  {
   "cell_type": "markdown",
   "metadata": {},
   "source": [
    "* Sort and display the top five performing schools by % overall passing."
   ]
  },
  {
   "cell_type": "code",
   "execution_count": null,
   "metadata": {
    "scrolled": true
   },
   "outputs": [],
   "source": []
  },
  {
   "cell_type": "markdown",
   "metadata": {},
   "source": [
    "## Bottom Performing Schools (By % Overall Passing)"
   ]
  },
  {
   "cell_type": "markdown",
   "metadata": {},
   "source": [
    "* Sort and display the five worst-performing schools by % overall passing."
   ]
  },
  {
   "cell_type": "code",
   "execution_count": null,
   "metadata": {},
   "outputs": [],
   "source": []
  },
  {
   "cell_type": "markdown",
   "metadata": {
    "collapsed": true
   },
   "source": [
    "## Math Scores by Grade"
   ]
  },
  {
   "cell_type": "markdown",
   "metadata": {},
   "source": [
    "* Create a table that lists the average Reading Score for students of each grade level (9th, 10th, 11th, 12th) at each school.\n",
    "\n",
    "  * Create a pandas series for each grade. Hint: use a conditional statement.\n",
    "  \n",
    "  * Group each series by school\n",
    "  \n",
    "  * Combine the series into a dataframe\n",
    "  \n",
    "  * Optional: give the displayed data cleaner formatting"
   ]
  },
  {
   "cell_type": "code",
   "execution_count": null,
   "metadata": {},
   "outputs": [],
   "source": []
  },
  {
   "cell_type": "markdown",
   "metadata": {},
   "source": [
    "## Reading Score by Grade "
   ]
  },
  {
   "cell_type": "markdown",
   "metadata": {},
   "source": [
    "* Perform the same operations as above for reading scores"
   ]
  },
  {
   "cell_type": "code",
   "execution_count": null,
   "metadata": {},
   "outputs": [],
   "source": []
  },
  {
   "cell_type": "markdown",
   "metadata": {},
   "source": [
    "## Scores by School Spending"
   ]
  },
  {
   "cell_type": "markdown",
   "metadata": {},
   "source": [
    "* Create a table that breaks down school performances based on average Spending Ranges (Per Student). Use 4 reasonable bins to group school spending. Include in the table each of the following:\n",
    "  * Average Math Score\n",
    "  * Average Reading Score\n",
    "  * % Passing Math\n",
    "  * % Passing Reading\n",
    "  * Overall Passing Rate (Average of the above two)"
   ]
  },
  {
   "cell_type": "code",
   "execution_count": null,
   "metadata": {},
   "outputs": [],
   "source": []
  },
  {
   "cell_type": "markdown",
   "metadata": {},
   "source": [
    "## Scores by School Size"
   ]
  },
  {
   "cell_type": "markdown",
   "metadata": {},
   "source": [
    "* Perform the same operations as above, based on school size."
   ]
  },
  {
   "cell_type": "code",
   "execution_count": null,
   "metadata": {
    "scrolled": true
   },
   "outputs": [],
   "source": []
  },
  {
   "cell_type": "markdown",
   "metadata": {},
   "source": [
    "## Scores by School Type"
   ]
  },
  {
   "cell_type": "markdown",
   "metadata": {},
   "source": [
    "* Perform the same operations as above, based on school type"
   ]
  },
  {
   "cell_type": "code",
   "execution_count": null,
   "metadata": {},
   "outputs": [],
   "source": []
  },
  {
   "cell_type": "code",
   "execution_count": null,
   "metadata": {},
   "outputs": [],
   "source": []
  }
 ],
 "metadata": {
  "anaconda-cloud": {},
  "kernel_info": {
   "name": "python3"
  },
  "kernelspec": {
   "display_name": "Python 3",
   "language": "python",
   "name": "python3"
  },
  "language_info": {
   "codemirror_mode": {
    "name": "ipython",
    "version": 3
   },
   "file_extension": ".py",
   "mimetype": "text/x-python",
   "name": "python",
   "nbconvert_exporter": "python",
   "pygments_lexer": "ipython3",
   "version": "3.8.8"
  },
  "latex_envs": {
   "LaTeX_envs_menu_present": true,
   "autoclose": false,
   "autocomplete": true,
   "bibliofile": "biblio.bib",
   "cite_by": "apalike",
   "current_citInitial": 1,
   "eqLabelWithNumbers": true,
   "eqNumInitial": 1,
   "hotkeys": {
    "equation": "Ctrl-E",
    "itemize": "Ctrl-I"
   },
   "labels_anchors": false,
   "latex_user_defs": false,
   "report_style_numbering": false,
   "user_envs_cfg": false
  },
  "nteract": {
   "version": "0.8.4"
  }
 },
 "nbformat": 4,
 "nbformat_minor": 1
}
